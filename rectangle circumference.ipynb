{
 "cells": [
  {
   "cell_type": "code",
   "execution_count": 1,
   "metadata": {},
   "outputs": [
    {
     "name": "stdout",
     "output_type": "stream",
     "text": [
      "Enter the value of rectangle high, h= 7\n",
      "Enter the value of rectangle high, L= 8.9\n",
      "the rectangle circumference is C= 124.60000000000001\n"
     ]
    }
   ],
   "source": [
    "h = input ('Enter the value of rectangle high, h= ')\n",
    "L = input ('Enter the value of rectangle high, L= ')\n",
    "h=float(h)\n",
    "L=float(L)\n",
    "print ('the rectangle circumference is C=',2*h*L)"
   ]
  },
  {
   "cell_type": "code",
   "execution_count": null,
   "metadata": {},
   "outputs": [],
   "source": []
  }
 ],
 "metadata": {
  "kernelspec": {
   "display_name": "Python 3",
   "language": "python",
   "name": "python3"
  },
  "language_info": {
   "codemirror_mode": {
    "name": "ipython",
    "version": 3
   },
   "file_extension": ".py",
   "mimetype": "text/x-python",
   "name": "python",
   "nbconvert_exporter": "python",
   "pygments_lexer": "ipython3",
   "version": "3.8.5"
  }
 },
 "nbformat": 4,
 "nbformat_minor": 4
}
