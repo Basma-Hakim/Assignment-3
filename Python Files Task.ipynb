{
 "cells": [
  {
   "cell_type": "code",
   "execution_count": 25,
   "metadata": {},
   "outputs": [],
   "source": [
    "#1- Open a file, name it 'test.txt' and write 'hello world' for 5 times in it then close it.\n",
    "\n",
    "File1 = open('test.txt', 'w+')\n",
    "l=['hello world\\n'*5]\n",
    "File1.writelines(l)\n",
    "\n",
    "File1.close()"
   ]
  },
  {
   "cell_type": "code",
   "execution_count": 27,
   "metadata": {},
   "outputs": [
    {
     "name": "stdout",
     "output_type": "stream",
     "text": [
      "['hello world\\n', 'hello world\\n', 'Hello world\\n', 'hello world\\n', 'hello world\\n', 'HELLO WORLD\\n', 'HELLO WORLD\\n', 'HELLO WORLD\\n', 'HELLO WORLD\\n', 'HELLO WORLD\\n']\n"
     ]
    }
   ],
   "source": [
    "#2- Read the contents of the file, then make content in uppercase then write the result again to the file.\n",
    "File1 = open('test.txt', 'r+')\n",
    "File1.read()\n",
    "for line in open('test.txt'):\n",
    "    File1.writelines(line.upper())\n",
    "    \n",
    "\n",
    "#3- Read the third line of the file then update it to its capital case using capitalize\n",
    "File1.seek(0)\n",
    "listline=File1.readlines() \n",
    "listline[2]\n",
    "capital_3rd_line=listline[2].capitalize()\n",
    "#update 3rd line with capital case using capitalize\n",
    "File1.seek(0)\n",
    "listline2=File1.readlines() \n",
    "listline2[2]=capital_3rd_line\n",
    "File1=open('test.txt','w+')\n",
    "File1.writelines(listline2)\n",
    "\n",
    "\n",
    "#4- Using With Statement open this file and append 'I Love python' to it.\n",
    "with open('test.txt', 'a+') as File1:\n",
    "    File1.seek(0)\n",
    "    print(File1.readlines())\n",
    "    File1.write('\\nI Love python')\n",
    "    File1.seek(0)\n",
    "\n",
    "File1.close()"
   ]
  },
  {
   "cell_type": "code",
   "execution_count": null,
   "metadata": {},
   "outputs": [],
   "source": []
  },
  {
   "cell_type": "code",
   "execution_count": null,
   "metadata": {},
   "outputs": [],
   "source": []
  }
 ],
 "metadata": {
  "kernelspec": {
   "display_name": "Python 3",
   "language": "python",
   "name": "python3"
  },
  "language_info": {
   "codemirror_mode": {
    "name": "ipython",
    "version": 3
   },
   "file_extension": ".py",
   "mimetype": "text/x-python",
   "name": "python",
   "nbconvert_exporter": "python",
   "pygments_lexer": "ipython3",
   "version": "3.8.5"
  }
 },
 "nbformat": 4,
 "nbformat_minor": 4
}
